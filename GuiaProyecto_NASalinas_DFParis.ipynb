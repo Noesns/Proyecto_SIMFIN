{
 "cells": [
  {
   "cell_type": "markdown",
   "metadata": {},
   "source": [
    "<img style=\"float: right; margin: 0px 0px 15px 15px;\" src=\"https://upload.wikimedia.org/wikipedia/commons/b/b6/Proyecto_en_construccion.jpg\" width=\"300px\" height=\"100px\" />\n",
    "\n",
    "\n",
    "# Proyecto Módulo 2- Guía.\n",
    "> Se especifican los componentes básicos que deberá tener cada proyecto. El proyecto debe ser un problema que utilice datos reales, ya sea de una empresa física real o de alguna página de internet que proporcione bases de datos confiables. Con la información obtenida, se pretende utilizar todas las herramientas vistas durante el curso para la correcta modelación y simulación del cierto problema con ciertas variables de interés."
   ]
  },
  {
   "cell_type": "markdown",
   "metadata": {},
   "source": [
    "___\n",
    "## 1. Entregable.\n",
    "Los trabajos deben tener los siguientes componentes básicos.\n",
    "\n",
    "### <font color = blue> 1.1 Proyecto 1</font> Analisis COVID-19 en la Economia mundial.\n",
    "> En el proyecto se prende analizar el efecto del COVID-19 en las economías mundiales en donde se tomaron medidas para contener la curva de contagios asi como paises donde no lo tomaron enserio y de esta forma poder hacer un contraste y simular el impacto que podria tener en México en distintos casos. Para esto se usaran los indices **(MIB 30 ,IBEX35 ,DJEUROSTOXX50,FTSE100,S&P 500,DOW JONES,IPC, NIKKEI 225, KOSPI).** \n",
    "\n",
    "> Comparando los principales índices bursátiles de cada país con los casos registrados de COVID-19 se puede obtener alguna relacion entre estas 2 variables. En pandemias pasadas ya se ha visto un comportamiento similar en las indices bursatiles, sin embargo en esta pandemia hubo un factor extra, <font color = green> La guerra de precios entre Rusia y Arabia Saudita</font>.Se llevara acabo un analisis de cuando llego el virus al pais y determinar el impacto que tuvo para el indice.\n",
    "\n",
    "### 1.2 Objetivos.\n",
    "\n",
    "> #### 1.1 Objetivo general.\n",
    ">  - Efectuar un analisis estimando el impacto economico que tendra el COVID-19, en las principales economias mundiales, y contrastar el impacto economico que se tendra, entre paises que tomaron medidas de contencion y paises que no lo hiceron.\n",
    "\n",
    "\n",
    "> #### 1.2 Objetivos específicos\n",
    "\n",
    ">  - Determinar en qué magnitud afecto el COVID-19 a la economía mundial.\n",
    "\n",
    ">  - Comparar las economías que tomaron acciones para contener al COVD-19 vs las que no le dieron la relevancia necesaria.\n",
    "\n",
    "> - Identificar comportamientos similares a lo largo de la historia cuando surge alguna pandemia.\n",
    "\n",
    "> - Simular el impacto economico que podria tener en México en un escenario donde se tomaron medidas adecuadas y un escenario en donde no se tomaron las medidas.\n",
    "\n",
    "\n",
    "### 1.3 Definición del problema.\n",
    "> Se debe describir en una cuartilla máximo cuál es el escenario de negocio que se va a modelar, identificar cuáles son los supuestos que defines en el negocio y cuáles son los \"nodos\" o \"escenarios\" que identificas necesarios simular y porqué. Debes elaborar un diagrama de inicio a fin, identificando los \"nodos\" o \"escenarios\" a simular.\n",
    "\n",
    "### 1.4 Nodos y variables que se decidieron simular y porqué\n",
    "> En este apartado el objetivo es identificar los problemas que se van a abordar, para examinar la factibilidad y viabilidad de la simulación de los nodos escogidos. Posteriormente se debe de argumentar del porqué de los nodos escogidos.\n",
    "\n",
    "### 1.5 Definición de hipótesis y supuestos.\n",
    ">  Para poder modelar un proceso de negocio o cualquiera otro proceso en el área de las ingenierías o ciencias sociales, después de identificar el objeto de estudio, es importante indicar cuales son los supuestos que se dan por verdaderos a lo largo de la ejecución del proceso. Estos supuestos se deben indicar en forma de variables e hipótesis (son diferentes), porque si puedes definir en un valor el supuesto lo llamaremos \"supuesto constante\" y si no es posible identificarlo con un número entonces será una hipótesis que afectará la construcción de los escenarios posibles del proceso.\n",
    "\n",
    "### 1.6 Obtención de bases de datos\n",
    "> Las bases de datos con las que se trabajaran seran los precios de los indices para analizar se obtendran de Yahoo Finanzas. Yahoo! Finance es un servicio de Yahoo! que proporciona información financiera y comentarios con un enfoque en los mercados de los Estados Unidos. A febrero de 2010 contaba con más de 23 millones de visitantes, según comScore. Yahoo! Finance ofrece información financiera, incluyendo cotizaciones de bolsa, índices bursátiles, comunicados de prensa corporativos y financieros, y Foros de discusión para discutir las perspectivas de empresas y la valoración de las mismas.\n",
    "\n",
    "> Para la informacion de COVID-19, se tomara de `https://ourworldindata.org/coronavirus-source-data`, OurWorldInData (Nuestro mundo en datos) es una publicación en-línea que presenta datos y resultados empíricos que muestran el cambio en las condiciones de vida en todo mundo. Los resultados son mostrados por medio de gráficos y mapas interactivos que muestran las tendencias de cambio por país y región. El objetivo es mostrar cómo el mundo está cambiando y las razones de estos cambios.Esta publicación es desarrollada en la Universidad de Oxford por el historiador social y economista del desarrollo Max Roser. \n",
    "\n",
    "### 1.7 Visualización de resultados de simulación.\n",
    "> Se deben simular al menos 4  \"nodos\" o \"escenarios\" en tu problema. Para la segunda entrega debes haber elaborado un programa que simule dos de ellos, los primeros dos de tu diagrama.\n",
    "> Para la entrega final deben de tener los 4 nodos con todas sus simulaciones.\n",
    "\n",
    "### 1.6 Conclusiones.\n",
    "> Mucho cuidado, las conclusiones no son cualquier cosa. Se debe concluir respecto a los objetivos planteados de acuerdo a los resultados obtenidos.\n",
    "\n",
    "### 1.7 Referencias.\n",
    "> Citar (en formato APA) la bibliografía utilizada."
   ]
  },
  {
   "cell_type": "markdown",
   "metadata": {},
   "source": [
    "___\n",
    "## 2. Especificaciones adicionales.\n",
    "En el grupo deben haber mínimo dos integrantes y máximo tres integrantes. Para propósitos logísticos nada más, por favor enumérense como *integrante 1*, *integrante 2* e *integrante 3*.\n",
    "\n",
    "### 2.1 Notebook de jupyter. \n",
    "> Los anteriores numerales los deben desarrollar todos en un notebook de jupyter y llamarlo de la siguiente manera `ProyectoModulo1_ApellidoN1_ApellidoN2_ApellidoN3`, donde `ApellidoNi` hace referencia al apellido materno y la inicial del primer nombre del integrante `i`.\n",
    "\n",
    "### 2.2 Proyecto en `GitHub`.\n",
    "> El integrante 1 deberá crear un proyecto en `GitHub` llamado **proyecto_modulo1**, donde tendrán todos los archivos relacionados con el proyecto. Los demás integrantes deben hacer un *fork* del proyecto, seguir el proyecto principal con `GitKraken` y hacer al menos dos contribuciones con *pull request* (como se hizo en la tarea). En el proyecto, deben incluir el repositorio remoto del integrante 1.\n",
    "\n",
    "### 2.3 Presentación.\n",
    "> Recuerden que la nota del proyecto es mitad el trabajo, y mitad la presentación. Deben hacer una presentación ya sea en power point o utlizando un notebook de python para presentar el trabajo durante un horario de clase que se será posteriomente definido. La presentación, además de llevar todos los componentes básicos descritos en el entregable, debe llevar una tabla de contenido.\n",
    "> - Presentación: 10 minutos.\n",
    "> - Seguir estas recomendaciones: https://es.slideshare.net/MeireComputacion/power-point-pautas-para-una-buen-trabajo"
   ]
  },
  {
   "cell_type": "markdown",
   "metadata": {},
   "source": [
    "<script>\n",
    "  $(document).ready(function(){\n",
    "    $('div.prompt').hide();\n",
    "    $('div.back-to-top').hide();\n",
    "    $('nav#menubar').hide();\n",
    "    $('.breadcrumb').hide();\n",
    "    $('.hidden-print').hide();\n",
    "  });\n",
    "</script>\n",
    "\n",
    "<footer id=\"attribution\" style=\"float:right; color:#808080; background:#fff;\">\n",
    "Created with Jupyter by Esteban Jiménez Rodríguez.\n",
    "</footer>"
   ]
  }
 ],
 "metadata": {
  "kernelspec": {
   "display_name": "Python 3",
   "language": "python",
   "name": "python3"
  },
  "language_info": {
   "codemirror_mode": {
    "name": "ipython",
    "version": 3
   },
   "file_extension": ".py",
   "mimetype": "text/x-python",
   "name": "python",
   "nbconvert_exporter": "python",
   "pygments_lexer": "ipython3",
   "version": "3.7.4"
  }
 },
 "nbformat": 4,
 "nbformat_minor": 2
}
